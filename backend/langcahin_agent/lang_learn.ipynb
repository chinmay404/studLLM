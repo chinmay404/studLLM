{
 "cells": [
  {
   "cell_type": "code",
   "execution_count": 42,
   "metadata": {},
   "outputs": [],
   "source": [
    "import os\n",
    "from langchain.prompts import PromptTemplate\n",
    "from langchain.agents import AgentExecutor, create_react_agent\n",
    "from helpers.get_llm import LLM\n",
    "from tools.tools import tools_list\n",
    "from helpers.load_prompt import load_prompt_from_yaml\n",
    "from tools.state_tool import get_user_state_\n",
    "from langgraph.graph import MessagesState\n",
    "from langchain_core.messages import HumanMessage, SystemMessage , AnyMessage\n",
    "from langgraph.prebuilt import create_react_agent\n",
    "from typing_extensions import TypedDict\n",
    "import random\n",
    "from typing import Literal , Annotated\n",
    "from IPython.display import Image, display\n",
    "from langgraph.graph import StateGraph, START, END\n",
    "from langgraph.graph.message import add_messages\n",
    "from langgraph.prebuilt import tool_node , tools_condition , tool_validator , ToolNode"
   ]
  },
  {
   "cell_type": "code",
   "execution_count": 2,
   "metadata": {},
   "outputs": [
    {
     "name": "stdout",
     "output_type": "stream",
     "text": [
      "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\n"
     ]
    }
   ],
   "source": [
    "\n",
    "llm = LLM.get_groq_llm()\n",
    "\n"
   ]
  },
  {
   "cell_type": "code",
   "execution_count": 3,
   "metadata": {},
   "outputs": [],
   "source": [
    "\n",
    "\n",
    "class State(TypedDict):\n",
    "    graph_state: str\n",
    "    \n",
    "    \n",
    "def node_1(state):\n",
    "    print(\"---Node 1---\")\n",
    "    return {\"graph_state\": state['graph_state'] +\" I am\"}\n",
    "\n",
    "def node_2(state):\n",
    "    print(\"---Node 2---\")\n",
    "    return {\"graph_state\": state['graph_state'] +\" happy!\"}\n",
    "\n",
    "def node_3(state):\n",
    "    print(\"---Node 3---\")\n",
    "    return {\"graph_state\": state['graph_state'] +\" sad!\"}\n",
    "\n",
    "\n",
    "\n"
   ]
  },
  {
   "cell_type": "code",
   "execution_count": 4,
   "metadata": {},
   "outputs": [],
   "source": [
    "\n",
    "\n",
    "def decide_mood(state) -> Literal[\"node_2\", \"node_3\"]:\n",
    "    user_input = state['graph_state'] \n",
    "    if random.random() < 0.5:\n",
    "        return \"node_2\"\n",
    "    return \"node_3\"\n",
    "\n",
    "\n",
    "\n"
   ]
  },
  {
   "cell_type": "code",
   "execution_count": 5,
   "metadata": {},
   "outputs": [
    {
     "data": {
      "text/plain": [
       "<langgraph.graph.state.StateGraph at 0x21f57cb4a30>"
      ]
     },
     "execution_count": 5,
     "metadata": {},
     "output_type": "execute_result"
    }
   ],
   "source": [
    "\n",
    "builder = StateGraph(State)\n",
    "\n",
    "\n",
    "# Adding Nodes\n",
    "builder.add_node(\"node_1\", node_1)\n",
    "builder.add_node(\"node_2\", node_2)\n",
    "builder.add_node(\"node_3\", node_3)\n",
    "\n",
    "\n",
    "# Logic\n",
    "builder.add_edge(START, \"node_1\")\n",
    "builder.add_conditional_edges(\"node_1\" , decide_mood)\n",
    "builder.add_edge(\"node_2\", END)\n",
    "builder.add_edge(\"node_3\", END)\n",
    "\n"
   ]
  },
  {
   "cell_type": "code",
   "execution_count": 6,
   "metadata": {},
   "outputs": [
    {
     "name": "stdout",
     "output_type": "stream",
     "text": [
      "---Node 1---\n",
      "---Node 2---\n",
      "Final State: {'graph_state': 'Hi Im Chinmay I am happy!'}\n"
     ]
    }
   ],
   "source": [
    "\n",
    "#Add\n",
    "graph = builder.compile()\n",
    "\n",
    "\n",
    "# display(Image(graph.get_graph().draw_mermaid_png()))\n",
    "\n",
    "op = graph.invoke({\"graph_state\": \"Hi Im Chinmay\"})\n",
    "\n",
    "\n",
    "print(\"Final State:\",op)"
   ]
  },
  {
   "cell_type": "code",
   "execution_count": 7,
   "metadata": {},
   "outputs": [],
   "source": [
    "from langchain_core.messages import HumanMessage, SystemMessage , AIMessage\n",
    "\n",
    "messages = [AIMessage(content=\"Hi\", name=\"Model\")]\n",
    "messages.extend([HumanMessage(content=\"I am\", name=\"User\")])\n",
    "messages.extend([AIMessage(content=\"happy!\", name=\"Model\")])\n",
    "messages.extend([AIMessage(content=\"How can i Help You\", name=\"Model\")])\n",
    "messages.extend([HumanMessage(content=\"I want to know some craxy facts\", name=\"User\")])"
   ]
  },
  {
   "cell_type": "code",
   "execution_count": 8,
   "metadata": {},
   "outputs": [
    {
     "name": "stdout",
     "output_type": "stream",
     "text": [
      "[AIMessage(content='Hi', additional_kwargs={}, response_metadata={}, name='Model'), HumanMessage(content='I am', additional_kwargs={}, response_metadata={}, name='User'), AIMessage(content='happy!', additional_kwargs={}, response_metadata={}, name='Model'), AIMessage(content='How can i Help You', additional_kwargs={}, response_metadata={}, name='Model'), HumanMessage(content='I want to know some craxy facts', additional_kwargs={}, response_metadata={}, name='User')]\n"
     ]
    },
    {
     "data": {
      "text/plain": [
       "AIMessage(content='\\n<think>\\nOkay, the user wants to know some crazy facts. Let me think of some interesting ones.\\n\\nFirst, maybe the one about the giraffe\\'s neck and the giraffe\\'s tongue. The tongue can be up to 18 inches long, which is really long. That\\'s a cool fact.\\n\\nThen, bananas have their own DNA? Wait, actually, bananas as plants have a different chromosome count. Maybe that\\'s a better way to phrase it. They have three copies of each chromosome, making them triploid. That might be a bit technical, but still interesting.\\n\\nOh, right! Venus flytraps can\\'t survive on their own without carnivory. They need the insects to get nitrogen. That\\'s a good one.\\n\\nThe octopus with the detachable arm. Yeah, some species can drop an arm to escape predators. The arm even keeps moving. That\\'s wild.\\n\\nShrimp and their \"memory\" in the ocean. The chemical they release when stressed affects other shrimp. Maybe I should explain that more clearly.\\n\\nThe black swan theory from Nassim Taleb. That\\'s a concept about unpredictability. It\\'s a bit abstract but still a cool fact.\\n\\nThe jellyfish Turritopsis dohrnii. Immortality? Well, they can revert to a juvenile state. So technically biologically immortal, but they can still die from predators or disease. Mention that nuance.\\n\\nThe human nose print. Each person\\'s nose print is unique, like fingerprints. That\\'s a lesser-known fact.\\n\\nThe waterbear\\'s resilience. Surviving in space? Radiation? That\\'s super extreme. Highlight their toughness.\\n\\nWait, check if all these facts are accurate. Let me verify a few. Giraffe tongues are indeed long and purple. Bananas as triploid, yes. Venus flytraps needing insects for nitrogen. The octopus\\'s detached arm. Shrimp stress chemicals. Black swan theory. The jellyfish\\'s cycle. Nose prints. Tardigrades. All these seem correct, but maybe add a note that the jellyfish can revert but can still die. Also, make sure the tone is friendly and engaging. Use emojis to keep it lively. Number them for clarity. End with an offer to help more. Alright, that should work.\\n</think>\\n\\nHere are some *crazy* facts to blow your mind 🤯:\\n\\n1. **Giraffes have blue tongues** – Their tongues can be up to **18 inches (45 cm) long** and are dark blue-black, which scientists think helps protect them from sunburn while eating.  \\n\\n2. **Bananas are almost like cloning** – Commercial bananas are sterile (they don’t have seeds) and are essentially clones of each other, making them vulnerable to disease. Plus, wild bananas are **full of giant, hard seeds** and taste terrible.  \\n\\n3. **Venus flytraps can’t survive on sunlight alone** – They’re carnivorous because they grow in nutrient-poor soil, so they need to eat insects for nitrogen.  \\n\\n4. **Some octopuses can *drop an arm* like a lizard’s tail** – The **blue-ringed octopus** can detach an arm to escape predators, and the arm *continues to wriggle* to distract the predator.  \\n\\n5. **Shrimp can \"remember\" each other** – When stressed, shrimp release a chemical that \"warns\" other shrimp of danger, and they react even if they’ve never met the stressed shrimp before.  \\n\\n6. **The Venus Flytrap’s “snack timer”** – When a bug lands on its leaves, the plant counts how many times the trigger hairs are touched to decide if it’s food (and not a false alarm like rain).  \\n\\n7. **The Black Swan Theory** – Coined by Nassim Taleb, it refers to events that are **unpredictable, rare, and have massive impacts** (like the 2008 financial crash). The term comes from Europeans once thinking all swans were white… until they found black ones in Australia.  \\n\\n8. **A jellyfish that’s (almost) immortal** – *Turritopsis dohrnii* can revert to its juvenile state after reaching adulthood, essentially \"restarting\" its life… though it can still die from predators or disease.  \\n\\n9. **Your nose print is unique** – Just like fingerprints, your **nose print** (the pattern of sweat glands on your nose) is entirely unique to you.  \\n\\n10. **Water bears (tardigrades) are space survivors** – These microscopic creatures can survive **vacuum of space, extreme radiation, and freezing temperatures** by going into a dehydrated \"tun\" state, then revive later.  \\n\\nNeed more madness? Just ask! 😄', additional_kwargs={}, response_metadata={'token_usage': {'completion_tokens': 985, 'prompt_tokens': 58, 'total_tokens': 1043, 'completion_time': 2.394710391, 'prompt_time': 0.004923716, 'queue_time': 0.099850361, 'total_time': 2.399634107}, 'model_name': 'qwen-qwq-32b', 'system_fingerprint': 'fp_27d5db8d87', 'finish_reason': 'stop', 'logprobs': None}, id='run-78e75a7e-c5b3-4aa9-a692-e2a1ac3b1a83-0', usage_metadata={'input_tokens': 58, 'output_tokens': 985, 'total_tokens': 1043})"
      ]
     },
     "execution_count": 8,
     "metadata": {},
     "output_type": "execute_result"
    }
   ],
   "source": [
    "print(messages)\n",
    "res = llm.invoke(messages)\n",
    "res"
   ]
  },
  {
   "cell_type": "code",
   "execution_count": 11,
   "metadata": {},
   "outputs": [
    {
     "data": {
      "text/plain": [
       "'Here are some *crazy* facts to blow your mind 🤯:1. **Giraffes have blue tongues** – Their tongues can be up to **18 inches (45 cm) long** and are dark blue-black, which scientists think helps protect them from sunburn while eating.  2. **Bananas are almost like cloning** – Commercial bananas are sterile (they don’t have seeds) and are essentially clones of each other, making them vulnerable to disease. Plus, wild bananas are **full of giant, hard seeds** and taste terrible.  3. **Venus flytraps can’t survive on sunlight alone** – They’re carnivorous because they grow in nutrient-poor soil, so they need to eat insects for nitrogen.  4. **Some octopuses can *drop an arm* like a lizard’s tail** – The **blue-ringed octopus** can detach an arm to escape predators, and the arm *continues to wriggle* to distract the predator.  5. **Shrimp can \"remember\" each other** – When stressed, shrimp release a chemical that \"warns\" other shrimp of danger, and they react even if they’ve never met the stressed shrimp before.  6. **The Venus Flytrap’s “snack timer”** – When a bug lands on its leaves, the plant counts how many times the trigger hairs are touched to decide if it’s food (and not a false alarm like rain).  7. **The Black Swan Theory** – Coined by Nassim Taleb, it refers to events that are **unpredictable, rare, and have massive impacts** (like the 2008 financial crash). The term comes from Europeans once thinking all swans were white… until they found black ones in Australia.  8. **A jellyfish that’s (almost) immortal** – *Turritopsis dohrnii* can revert to its juvenile state after reaching adulthood, essentially \"restarting\" its life… though it can still die from predators or disease.  9. **Your nose print is unique** – Just like fingerprints, your **nose print** (the pattern of sweat glands on your nose) is entirely unique to you.  10. **Water bears (tardigrades) are space survivors** – These microscopic creatures can survive **vacuum of space, extreme radiation, and freezing temperatures** by going into a dehydrated \"tun\" state, then revive later.  Need more madness? Just ask! 😄'"
      ]
     },
     "execution_count": 11,
     "metadata": {},
     "output_type": "execute_result"
    }
   ],
   "source": [
    "res.content.split(\"</think>\")[-1].replace(\"\\n\\n\",\"\")"
   ]
  },
  {
   "cell_type": "code",
   "execution_count": 14,
   "metadata": {},
   "outputs": [],
   "source": [
    "llm_with_tools = llm.bind_tools(tools_list)"
   ]
  },
  {
   "cell_type": "code",
   "execution_count": 17,
   "metadata": {},
   "outputs": [],
   "source": [
    "Tool_call = llm_with_tools.invoke([HumanMessage(content=\"Whats Happeing In germnay rn\", name=\"User\")])"
   ]
  },
  {
   "cell_type": "code",
   "execution_count": 21,
   "metadata": {},
   "outputs": [
    {
     "data": {
      "text/plain": [
       "[{'id': 'call_f80x',\n",
       "  'function': {'arguments': '{\"query\": \"current events and news in Germany today\"}',\n",
       "   'name': 'search'},\n",
       "  'type': 'function'}]"
      ]
     },
     "execution_count": 21,
     "metadata": {},
     "output_type": "execute_result"
    }
   ],
   "source": [
    "Tool_call.additional_kwargs['tool_calls']"
   ]
  },
  {
   "cell_type": "code",
   "execution_count": 25,
   "metadata": {},
   "outputs": [],
   "source": [
    "class State(TypedDict):\n",
    "    messages : Annotated[list[AnyMessage], add_messages]"
   ]
  },
  {
   "cell_type": "markdown",
   "metadata": {},
   "source": [
    "# TOOL CALL GRAPH"
   ]
  },
  {
   "cell_type": "code",
   "execution_count": null,
   "metadata": {},
   "outputs": [],
   "source": [
    "class State(MessagesState):\n",
    "    pass"
   ]
  },
  {
   "cell_type": "code",
   "execution_count": 38,
   "metadata": {},
   "outputs": [],
   "source": [
    "def tool_call_llm(state : MessagesState):\n",
    "    return {\"messages\": [llm_with_tools.invoke(state[\"messages\"])]}\n",
    "    # return state"
   ]
  },
  {
   "cell_type": "code",
   "execution_count": null,
   "metadata": {},
   "outputs": [],
   "source": [
    "builder = StateGraph(State)\n",
    "builder.add_node(\"tool_call_llm\", tool_call_llm)\n",
    "builder.add_edge(START, \"tool_call_llm\")\n",
    "builder.add_edge(\"tool_call_llm\", END)\n",
    "graph = builder.compile()"
   ]
  },
  {
   "cell_type": "code",
   "execution_count": 29,
   "metadata": {},
   "outputs": [
    {
     "data": {
      "text/plain": [
       "{'messages': [HumanMessage(content='Hello', additional_kwargs={}, response_metadata={}, name='User', id='0e2b79c2-0b55-41ad-94df-1a13df1c099b'),\n",
       "  AIMessage(content='Hello! How can I assist you today?', additional_kwargs={}, response_metadata={'token_usage': {'completion_tokens': 77, 'prompt_tokens': 445, 'total_tokens': 522, 'completion_time': 0.191892794, 'prompt_time': 0.024129991, 'queue_time': 0.10252348700000001, 'total_time': 0.216022785}, 'model_name': 'qwen-qwq-32b', 'system_fingerprint': 'fp_27d5db8d87', 'finish_reason': 'stop', 'logprobs': None}, id='run-4cfd5b0d-31da-4b4b-ad44-ee243074dd9f-0', usage_metadata={'input_tokens': 445, 'output_tokens': 77, 'total_tokens': 522})]}"
      ]
     },
     "execution_count": 29,
     "metadata": {},
     "output_type": "execute_result"
    }
   ],
   "source": [
    "message = graph.invoke({\"messages\": HumanMessage(content=\"Hello\", name=\"User\")})\n",
    "message"
   ]
  },
  {
   "cell_type": "code",
   "execution_count": 30,
   "metadata": {},
   "outputs": [
    {
     "data": {
      "text/plain": [
       "{'messages': [HumanMessage(content='whats happening In Germany Rn', additional_kwargs={}, response_metadata={}, name='User', id='7ae77699-d54d-437b-ae00-998d157af777'),\n",
       "  AIMessage(content='', additional_kwargs={'tool_calls': [{'id': 'call_9ht1', 'function': {'arguments': '{\"query\": \"what\\'s happening in Germany right now\"}', 'name': 'search'}, 'type': 'function'}]}, response_metadata={'token_usage': {'completion_tokens': 223, 'prompt_tokens': 451, 'total_tokens': 674, 'completion_time': 0.540232196, 'prompt_time': 0.029495052, 'queue_time': 0.10246565700000002, 'total_time': 0.569727248}, 'model_name': 'qwen-qwq-32b', 'system_fingerprint': 'fp_961d4d54da', 'finish_reason': 'tool_calls', 'logprobs': None}, id='run-4fb79704-59dc-429a-a132-00c4dbd561c0-0', tool_calls=[{'name': 'search', 'args': {'query': \"what's happening in Germany right now\"}, 'id': 'call_9ht1', 'type': 'tool_call'}], usage_metadata={'input_tokens': 451, 'output_tokens': 223, 'total_tokens': 674})]}"
      ]
     },
     "execution_count": 30,
     "metadata": {},
     "output_type": "execute_result"
    }
   ],
   "source": [
    "message = graph.invoke({\"messages\": HumanMessage(content=\"whats happening In Germany Rn\", name=\"User\")})\n",
    "message"
   ]
  },
  {
   "cell_type": "code",
   "execution_count": 32,
   "metadata": {},
   "outputs": [
    {
     "data": {
      "text/plain": [
       "__main__.State['messages']"
      ]
     },
     "execution_count": 32,
     "metadata": {},
     "output_type": "execute_result"
    }
   ],
   "source": [
    "State[\"messages\"]"
   ]
  },
  {
   "cell_type": "markdown",
   "metadata": {},
   "source": [
    "# Routers"
   ]
  },
  {
   "cell_type": "code",
   "execution_count": 45,
   "metadata": {},
   "outputs": [
    {
     "ename": "ValueError",
     "evalue": "Found edge starting at unknown node 'tools'",
     "output_type": "error",
     "traceback": [
      "\u001b[1;31m---------------------------------------------------------------------------\u001b[0m",
      "\u001b[1;31mValueError\u001b[0m                                Traceback (most recent call last)",
      "Cell \u001b[1;32mIn[45], line 7\u001b[0m\n\u001b[0;32m      5\u001b[0m builder\u001b[38;5;241m.\u001b[39madd_conditional_edges\n\u001b[0;32m      6\u001b[0m builder\u001b[38;5;241m.\u001b[39madd_edge(\u001b[38;5;124m\"\u001b[39m\u001b[38;5;124mtools\u001b[39m\u001b[38;5;124m\"\u001b[39m, END)\n\u001b[1;32m----> 7\u001b[0m graph \u001b[38;5;241m=\u001b[39m \u001b[43mbuilder\u001b[49m\u001b[38;5;241;43m.\u001b[39;49m\u001b[43mcompile\u001b[49m\u001b[43m(\u001b[49m\u001b[43m)\u001b[49m\n",
      "File \u001b[1;32ms:\\miniconda\\envs\\aca\\lib\\site-packages\\langgraph\\graph\\state.py:602\u001b[0m, in \u001b[0;36mStateGraph.compile\u001b[1;34m(self, checkpointer, store, interrupt_before, interrupt_after, debug, name)\u001b[0m\n\u001b[0;32m    599\u001b[0m interrupt_after \u001b[38;5;241m=\u001b[39m interrupt_after \u001b[38;5;129;01mor\u001b[39;00m []\n\u001b[0;32m    601\u001b[0m \u001b[38;5;66;03m# validate the graph\u001b[39;00m\n\u001b[1;32m--> 602\u001b[0m \u001b[38;5;28;43mself\u001b[39;49m\u001b[38;5;241;43m.\u001b[39;49m\u001b[43mvalidate\u001b[49m\u001b[43m(\u001b[49m\n\u001b[0;32m    603\u001b[0m \u001b[43m    \u001b[49m\u001b[43minterrupt\u001b[49m\u001b[38;5;241;43m=\u001b[39;49m\u001b[43m(\u001b[49m\n\u001b[0;32m    604\u001b[0m \u001b[43m        \u001b[49m\u001b[43m(\u001b[49m\u001b[43minterrupt_before\u001b[49m\u001b[43m \u001b[49m\u001b[38;5;28;43;01mif\u001b[39;49;00m\u001b[43m \u001b[49m\u001b[43minterrupt_before\u001b[49m\u001b[43m \u001b[49m\u001b[38;5;241;43m!=\u001b[39;49m\u001b[43m \u001b[49m\u001b[38;5;124;43m\"\u001b[39;49m\u001b[38;5;124;43m*\u001b[39;49m\u001b[38;5;124;43m\"\u001b[39;49m\u001b[43m \u001b[49m\u001b[38;5;28;43;01melse\u001b[39;49;00m\u001b[43m \u001b[49m\u001b[43m[\u001b[49m\u001b[43m]\u001b[49m\u001b[43m)\u001b[49m\u001b[43m \u001b[49m\u001b[38;5;241;43m+\u001b[39;49m\u001b[43m \u001b[49m\u001b[43minterrupt_after\u001b[49m\n\u001b[0;32m    605\u001b[0m \u001b[43m        \u001b[49m\u001b[38;5;28;43;01mif\u001b[39;49;00m\u001b[43m \u001b[49m\u001b[43minterrupt_after\u001b[49m\u001b[43m \u001b[49m\u001b[38;5;241;43m!=\u001b[39;49m\u001b[43m \u001b[49m\u001b[38;5;124;43m\"\u001b[39;49m\u001b[38;5;124;43m*\u001b[39;49m\u001b[38;5;124;43m\"\u001b[39;49m\n\u001b[0;32m    606\u001b[0m \u001b[43m        \u001b[49m\u001b[38;5;28;43;01melse\u001b[39;49;00m\u001b[43m \u001b[49m\u001b[43m[\u001b[49m\u001b[43m]\u001b[49m\n\u001b[0;32m    607\u001b[0m \u001b[43m    \u001b[49m\u001b[43m)\u001b[49m\n\u001b[0;32m    608\u001b[0m \u001b[43m\u001b[49m\u001b[43m)\u001b[49m\n\u001b[0;32m    610\u001b[0m \u001b[38;5;66;03m# prepare output channels\u001b[39;00m\n\u001b[0;32m    611\u001b[0m output_channels \u001b[38;5;241m=\u001b[39m (\n\u001b[0;32m    612\u001b[0m     \u001b[38;5;124m\"\u001b[39m\u001b[38;5;124m__root__\u001b[39m\u001b[38;5;124m\"\u001b[39m\n\u001b[0;32m    613\u001b[0m     \u001b[38;5;28;01mif\u001b[39;00m \u001b[38;5;28mlen\u001b[39m(\u001b[38;5;28mself\u001b[39m\u001b[38;5;241m.\u001b[39mschemas[\u001b[38;5;28mself\u001b[39m\u001b[38;5;241m.\u001b[39moutput]) \u001b[38;5;241m==\u001b[39m \u001b[38;5;241m1\u001b[39m\n\u001b[1;32m   (...)\u001b[0m\n\u001b[0;32m    619\u001b[0m     ]\n\u001b[0;32m    620\u001b[0m )\n",
      "File \u001b[1;32ms:\\miniconda\\envs\\aca\\lib\\site-packages\\langgraph\\graph\\graph.py:264\u001b[0m, in \u001b[0;36mGraph.validate\u001b[1;34m(self, interrupt)\u001b[0m\n\u001b[0;32m    262\u001b[0m \u001b[38;5;28;01mfor\u001b[39;00m source \u001b[38;5;129;01min\u001b[39;00m all_sources:\n\u001b[0;32m    263\u001b[0m     \u001b[38;5;28;01mif\u001b[39;00m source \u001b[38;5;129;01mnot\u001b[39;00m \u001b[38;5;129;01min\u001b[39;00m \u001b[38;5;28mself\u001b[39m\u001b[38;5;241m.\u001b[39mnodes \u001b[38;5;129;01mand\u001b[39;00m source \u001b[38;5;241m!=\u001b[39m START:\n\u001b[1;32m--> 264\u001b[0m         \u001b[38;5;28;01mraise\u001b[39;00m \u001b[38;5;167;01mValueError\u001b[39;00m(\u001b[38;5;124mf\u001b[39m\u001b[38;5;124m\"\u001b[39m\u001b[38;5;124mFound edge starting at unknown node \u001b[39m\u001b[38;5;124m'\u001b[39m\u001b[38;5;132;01m{\u001b[39;00msource\u001b[38;5;132;01m}\u001b[39;00m\u001b[38;5;124m'\u001b[39m\u001b[38;5;124m\"\u001b[39m)\n\u001b[0;32m    266\u001b[0m \u001b[38;5;28;01mif\u001b[39;00m START \u001b[38;5;129;01mnot\u001b[39;00m \u001b[38;5;129;01min\u001b[39;00m all_sources:\n\u001b[0;32m    267\u001b[0m     \u001b[38;5;28;01mraise\u001b[39;00m \u001b[38;5;167;01mValueError\u001b[39;00m(\n\u001b[0;32m    268\u001b[0m         \u001b[38;5;124m\"\u001b[39m\u001b[38;5;124mGraph must have an entrypoint: add at least one edge from START to another node\u001b[39m\u001b[38;5;124m\"\u001b[39m\n\u001b[0;32m    269\u001b[0m     )\n",
      "\u001b[1;31mValueError\u001b[0m: Found edge starting at unknown node 'tools'"
     ]
    }
   ],
   "source": [
    "builder = StateGraph(State)\n",
    "builder.add_node(\"tool_call_llm\", tool_call_llm)\n",
    "builder.add_edge(\"tools\" , ToolNode(tools_list))\n",
    "builder.add_edge(START, \"tool_call_llm\")\n",
    "builder.add_conditional_edges\n",
    "builder.add_edge(\"tools\", END)\n",
    "graph = builder.compile()"
   ]
  },
  {
   "cell_type": "code",
   "execution_count": null,
   "metadata": {},
   "outputs": [],
   "source": []
  },
  {
   "cell_type": "code",
   "execution_count": null,
   "metadata": {},
   "outputs": [],
   "source": []
  },
  {
   "cell_type": "code",
   "execution_count": null,
   "metadata": {},
   "outputs": [],
   "source": []
  }
 ],
 "metadata": {
  "kernelspec": {
   "display_name": "aca",
   "language": "python",
   "name": "python3"
  },
  "language_info": {
   "codemirror_mode": {
    "name": "ipython",
    "version": 3
   },
   "file_extension": ".py",
   "mimetype": "text/x-python",
   "name": "python",
   "nbconvert_exporter": "python",
   "pygments_lexer": "ipython3",
   "version": "3.10.16"
  }
 },
 "nbformat": 4,
 "nbformat_minor": 2
}
