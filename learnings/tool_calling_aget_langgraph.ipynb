{
 "cells": [
  {
   "cell_type": "code",
   "execution_count": 5,
   "metadata": {},
   "outputs": [],
   "source": [
    "import os\n",
    "from langchain.prompts import PromptTemplate\n",
    "from langchain.agents import AgentExecutor, create_react_agent\n",
    "from helpers.get_llm import LLM\n",
    "from tools.tools import tools_list\n",
    "from helpers.load_prompt import load_prompt_from_yaml\n",
    "from tools.state_tool import get_user_state_\n",
    "from langgraph.graph import MessagesState\n",
    "from langchain_core.messages import HumanMessage, SystemMessage , AnyMessage\n",
    "from langgraph.prebuilt import create_react_agent\n",
    "from typing_extensions import TypedDict\n",
    "import random\n",
    "from typing import Literal , Annotated\n",
    "from IPython.display import Image, display\n",
    "from langgraph.graph import StateGraph, START, END\n",
    "from langgraph.graph.message import add_messages\n",
    "from langgraph.prebuilt import tool_node , tools_condition , tool_validator , ToolNode\n",
    "from pydantic import BaseModel, Field, constr, confloat"
   ]
  },
  {
   "cell_type": "code",
   "execution_count": 9,
   "metadata": {},
   "outputs": [],
   "source": [
    "\n",
    "llm = LLM.get_groq_llm()\n",
    "\n"
   ]
  },
  {
   "cell_type": "code",
   "execution_count": 10,
   "metadata": {},
   "outputs": [],
   "source": [
    "llm_with_tools = llm.bind_tools(tools_list)"
   ]
  },
  {
   "cell_type": "code",
   "execution_count": 11,
   "metadata": {},
   "outputs": [
    {
     "name": "stdout",
     "output_type": "stream",
     "text": [
      "content='Hello! How can I assist you today?' additional_kwargs={} response_metadata={'token_usage': {'completion_tokens': 586, 'prompt_tokens': 447, 'total_tokens': 1033, 'completion_time': 1.429844268, 'prompt_time': 0.033403045, 'queue_time': 0.09352590800000002, 'total_time': 1.463247313}, 'model_name': 'qwen-qwq-32b', 'system_fingerprint': 'fp_605cd2a568', 'finish_reason': 'stop', 'logprobs': None} id='run-0c7fe587-65ae-4772-a854-55f3bb358d8a-0' usage_metadata={'input_tokens': 447, 'output_tokens': 586, 'total_tokens': 1033}\n"
     ]
    }
   ],
   "source": [
    "print(llm_with_tools.invoke(\"Hello Tere\"))"
   ]
  },
  {
   "cell_type": "code",
   "execution_count": 12,
   "metadata": {},
   "outputs": [],
   "source": [
    "sys_msg = SystemMessage(content=\"You Are A Helpful Assistat For Student Who Help Then To Navigate In Abrod with day today Life\")"
   ]
  },
  {
   "cell_type": "code",
   "execution_count": 13,
   "metadata": {},
   "outputs": [],
   "source": [
    "def assistant(state : MessagesState) -> AnyMessage:\n",
    "    return {\"messages\" : [llm_with_tools.invoke([sys_msg] + state[\"messages\"])]}"
   ]
  },
  {
   "cell_type": "code",
   "execution_count": 14,
   "metadata": {},
   "outputs": [],
   "source": [
    "builder = StateGraph(MessagesState)\n",
    "\n",
    "\n",
    "builder.add_node(\"assistant\", assistant)\n",
    "builder.add_node(\"tools\", ToolNode(tools_list))\n",
    "\n",
    "\n",
    "\n",
    "\n",
    "builder.add_edge(START, \"assistant\")\n",
    "builder.add_conditional_edges(\"assistant\",tools_condition)\n",
    "builder.add_edge(\"tools\" , \"assistant\")\n",
    "\n",
    "react_graph = builder.compile()"
   ]
  },
  {
   "cell_type": "code",
   "execution_count": 15,
   "metadata": {},
   "outputs": [
    {
     "data": {
      "image/png": "[encoded data removed]",
      "text/plain": [
       "<IPython.core.display.Image object>"
      ]
     },
     "metadata": {},
     "output_type": "display_data"
    }
   ],
   "source": [
    "display(Image(react_graph.get_graph(xray=True).draw_mermaid_png()))"
   ]
  },
  {
   "cell_type": "code",
   "execution_count": 18,
   "metadata": {},
   "outputs": [
    {
     "name": "stderr",
     "output_type": "stream",
     "text": [
      "s:\\miniconda\\envs\\aca\\lib\\site-packages\\langchain_community\\utilities\\duckduckgo_search.py:64: UserWarning: backend='api' is deprecated, using backend='auto'\n",
      "  ddgs_gen = ddgs.text(\n"
     ]
    },
    {
     "data": {
      "text/plain": [
       "{'messages': [HumanMessage(content='I am looking for a place to stay', additional_kwargs={}, response_metadata={}, id='74fae63d-0244-48c7-98c8-d1daee99159f'),\n",
       "  AIMessage(content='', additional_kwargs={'tool_calls': [{'id': 'call_hzfn', 'function': {'arguments': '{\"query\": \"places to stay\"}', 'name': 'search'}, 'type': 'function'}]}, response_metadata={'token_usage': {'completion_tokens': 254, 'prompt_tokens': 473, 'total_tokens': 727, 'completion_time': 0.624352564, 'prompt_time': 0.025734191, 'queue_time': 0.09457521399999999, 'total_time': 0.650086755}, 'model_name': 'qwen-qwq-32b', 'system_fingerprint': 'fp_ea798e78f0', 'finish_reason': 'tool_calls', 'logprobs': None}, id='run-de5abb7d-4d8f-4200-84c7-4f6f48bece38-0', tool_calls=[{'name': 'search', 'args': {'query': 'places to stay'}, 'id': 'call_hzfn', 'type': 'tool_call'}], usage_metadata={'input_tokens': 473, 'output_tokens': 254, 'total_tokens': 727}),\n",
       "  ToolMessage(content='Preiswerte Hotels in Raisdorf und Umgebung: Entdecken Sie 44 Hotel-Angebote ab 55€/Nacht (03/2025) » vergleichen und sparen! Here are some of the most unique places to stay in the US - from glamping resorts to cliffside adventure lodges, boutique hotels, and historic Wondering where to stay in Seattle? This detailed guide is written by a local and has everything you need to know to decide on the best place for you. Discover where to stay in Tampa, FL! Explore 9 top neighborhoods with hotel tips for every budget and proximity to attractions. Start planning your trip now! Änderungen im Schleswig-Holstein-Tarif zum 1. April 2025 Zum 1. April 2025 werden die Preise für die Nutzung von Bahnen und Bussen des landesweit gültigen Schleswig-Holstein-Tarifs (SH-Tarif) um durchschnittlich 4,97 Prozent angehoben. Das haben Verkehrsunternehmen und Aufgabenträger beschlossen. Das Deutschlandticket ist nicht betroffen. Die Preisanpassung ist erforderlich, um allgemeine ...', name='search', id='2ab772f6-e0a7-4169-a3d2-83890aaaec62', tool_call_id='call_hzfn'),\n",
       "  AIMessage(content='It seems like the search results include information in both German and English. Could you clarify your location and preferences? For example:\\n\\n1. **Where exactly do you want to stay?**  \\n   (e.g., Raisdorf, Seattle, Tampa, or another destination?)\\n\\n2. **What is your budget?**  \\n   (e.g., 55€/night, luxury, or budget-friendly?)\\n\\n3. **Do you prefer hotels, hostels, or other accommodations?**  \\n\\n4. **Any specific dates or needs?**  \\n   (e.g., accessibility, pet-friendly, etc.)\\n\\nThis will help me refine the search and provide tailored recommendations! 😊', additional_kwargs={}, response_metadata={'token_usage': {'completion_tokens': 463, 'prompt_tokens': 780, 'total_tokens': 1243, 'completion_time': 1.129626024, 'prompt_time': 0.098726328, 'queue_time': 0.094220992, 'total_time': 1.228352352}, 'model_name': 'qwen-qwq-32b', 'system_fingerprint': 'fp_605cd2a568', 'finish_reason': 'stop', 'logprobs': None}, id='run-c611b51c-955d-4592-9924-dbca5f0b7584-0', usage_metadata={'input_tokens': 780, 'output_tokens': 463, 'total_tokens': 1243})]}"
      ]
     },
     "execution_count": 18,
     "metadata": {},
     "output_type": "execute_result"
    }
   ],
   "source": [
    "messages = [HumanMessage(content=\"I am looking for a place to stay\")]\n",
    "res = react_graph.invoke({\"messages\":messages})\n",
    "res"
   ]
  },
  {
   "cell_type": "code",
   "execution_count": null,
   "metadata": {},
   "outputs": [
    {
     "ename": "AttributeError",
     "evalue": "'AddableValuesDict' object has no attribute 'AIMessages'",
     "output_type": "error",
     "traceback": [
      "\u001b[1;31m---------------------------------------------------------------------------\u001b[0m",
      "\u001b[1;31mAttributeError\u001b[0m                            Traceback (most recent call last)",
      "Cell \u001b[1;32mIn[19], line 1\u001b[0m\n\u001b[1;32m----> 1\u001b[0m \u001b[43mres\u001b[49m\u001b[38;5;241;43m.\u001b[39;49m\u001b[43mAIMessages\u001b[49m\n",
      "\u001b[1;31mAttributeError\u001b[0m: 'AddableValuesDict' object has no attribute 'AIMessages'"
     ]
    }
   ],
   "source": []
  },
  {
   "cell_type": "code",
   "execution_count": 23,
   "metadata": {},
   "outputs": [
    {
     "name": "stdout",
     "output_type": "stream",
     "text": [
      "content='I am looking for a place to stay' additional_kwargs={} response_metadata={} id='74fae63d-0244-48c7-98c8-d1daee99159f'\n",
      "==============================================\n",
      "content='' additional_kwargs={'tool_calls': [{'id': 'call_hzfn', 'function': {'arguments': '{\"query\": \"places to stay\"}', 'name': 'search'}, 'type': 'function'}]} response_metadata={'token_usage': {'completion_tokens': 254, 'prompt_tokens': 473, 'total_tokens': 727, 'completion_time': 0.624352564, 'prompt_time': 0.025734191, 'queue_time': 0.09457521399999999, 'total_time': 0.650086755}, 'model_name': 'qwen-qwq-32b', 'system_fingerprint': 'fp_ea798e78f0', 'finish_reason': 'tool_calls', 'logprobs': None} id='run-de5abb7d-4d8f-4200-84c7-4f6f48bece38-0' tool_calls=[{'name': 'search', 'args': {'query': 'places to stay'}, 'id': 'call_hzfn', 'type': 'tool_call'}] usage_metadata={'input_tokens': 473, 'output_tokens': 254, 'total_tokens': 727}\n",
      "==============================================\n",
      "content='Preiswerte Hotels in Raisdorf und Umgebung: Entdecken Sie 44 Hotel-Angebote ab 55€/Nacht (03/2025) » vergleichen und sparen! Here are some of the most unique places to stay in the US - from glamping resorts to cliffside adventure lodges, boutique hotels, and historic Wondering where to stay in Seattle? This detailed guide is written by a local and has everything you need to know to decide on the best place for you. Discover where to stay in Tampa, FL! Explore 9 top neighborhoods with hotel tips for every budget and proximity to attractions. Start planning your trip now! Änderungen im Schleswig-Holstein-Tarif zum 1. April 2025 Zum 1. April 2025 werden die Preise für die Nutzung von Bahnen und Bussen des landesweit gültigen Schleswig-Holstein-Tarifs (SH-Tarif) um durchschnittlich 4,97 Prozent angehoben. Das haben Verkehrsunternehmen und Aufgabenträger beschlossen. Das Deutschlandticket ist nicht betroffen. Die Preisanpassung ist erforderlich, um allgemeine ...' name='search' id='2ab772f6-e0a7-4169-a3d2-83890aaaec62' tool_call_id='call_hzfn'\n",
      "==============================================\n",
      "content='It seems like the search results include information in both German and English. Could you clarify your location and preferences? For example:\\n\\n1. **Where exactly do you want to stay?**  \\n   (e.g., Raisdorf, Seattle, Tampa, or another destination?)\\n\\n2. **What is your budget?**  \\n   (e.g., 55€/night, luxury, or budget-friendly?)\\n\\n3. **Do you prefer hotels, hostels, or other accommodations?**  \\n\\n4. **Any specific dates or needs?**  \\n   (e.g., accessibility, pet-friendly, etc.)\\n\\nThis will help me refine the search and provide tailored recommendations! 😊' additional_kwargs={} response_metadata={'token_usage': {'completion_tokens': 463, 'prompt_tokens': 780, 'total_tokens': 1243, 'completion_time': 1.129626024, 'prompt_time': 0.098726328, 'queue_time': 0.094220992, 'total_time': 1.228352352}, 'model_name': 'qwen-qwq-32b', 'system_fingerprint': 'fp_605cd2a568', 'finish_reason': 'stop', 'logprobs': None} id='run-c611b51c-955d-4592-9924-dbca5f0b7584-0' usage_metadata={'input_tokens': 780, 'output_tokens': 463, 'total_tokens': 1243}\n",
      "==============================================\n"
     ]
    }
   ],
   "source": [
    "for m in res['messages']:\n",
    "    print(m)\n",
    "    print(\"==============================================\")"
   ]
  },
  {
   "cell_type": "markdown",
   "metadata": {},
   "source": [
    "# Adding Memory"
   ]
  },
  {
   "cell_type": "code",
   "execution_count": 26,
   "metadata": {},
   "outputs": [],
   "source": [
    "from langgraph.checkpoint.memory import MemorySaver\n",
    "\n",
    "memory = MemorySaver()"
   ]
  },
  {
   "cell_type": "code",
   "execution_count": 29,
   "metadata": {},
   "outputs": [],
   "source": [
    "grapH_with_memory = builder.compile(checkpointer=memory)"
   ]
  },
  {
   "cell_type": "code",
   "execution_count": 30,
   "metadata": {},
   "outputs": [
    {
     "name": "stderr",
     "output_type": "stream",
     "text": [
      "s:\\miniconda\\envs\\aca\\lib\\site-packages\\langchain_community\\utilities\\duckduckgo_search.py:64: UserWarning: backend='api' is deprecated, using backend='auto'\n",
      "  ddgs_gen = ddgs.text(\n"
     ]
    }
   ],
   "source": [
    "config = {\"configurable\": {\"thread_id\": \"1234\"}}\n",
    "messages = [HumanMessage(content=\"I am looking for a place to stay\")]\n",
    "\n",
    "res = grapH_with_memory.invoke({\"messages\":messages}, config)\n"
   ]
  },
  {
   "cell_type": "code",
   "execution_count": 31,
   "metadata": {},
   "outputs": [
    {
     "name": "stdout",
     "output_type": "stream",
     "text": [
      "content='I am looking for a place to stay' additional_kwargs={} response_metadata={} id='fb43a860-9f71-4a2f-8ca2-5b79710a0767'\n",
      "==============================================\n",
      "content='' additional_kwargs={'tool_calls': [{'id': 'call_6pn5', 'function': {'arguments': '{\"query\": \"places to stay for students abroad options\"}', 'name': 'search'}, 'type': 'function'}]} response_metadata={'token_usage': {'completion_tokens': 200, 'prompt_tokens': 473, 'total_tokens': 673, 'completion_time': 0.485487796, 'prompt_time': 0.031445466, 'queue_time': 0.282797548, 'total_time': 0.516933262}, 'model_name': 'qwen-qwq-32b', 'system_fingerprint': 'fp_27d5db8d87', 'finish_reason': 'tool_calls', 'logprobs': None} id='run-00f7f2c3-4655-4dd7-b485-bd8997a667d6-0' tool_calls=[{'name': 'search', 'args': {'query': 'places to stay for students abroad options'}, 'id': 'call_6pn5', 'type': 'tool_call'}] usage_metadata={'input_tokens': 473, 'output_tokens': 200, 'total_tokens': 673}\n",
      "==============================================\n",
      "content=\"Error: DuckDuckGoSearchException(RatelimitException('https://lite.duckduckgo.com/lite/ 202 Ratelimit'))\\n Please fix your mistakes.\" name='search' id='d9c4a08e-2a31-405c-a867-dd01b88d7b4e' tool_call_id='call_6pn5' status='error'\n",
      "==============================================\n",
      "content='Here are common options for students looking for places to stay abroad:\\n\\n1. **University Accommodations**  \\n   - Check if your university offers on-campus housing (dorms, apartments) for international students.\\n\\n2. **Private Rentals**  \\n   - Platforms like *Airbnb*, *Roomi*, or local real estate sites can help find apartments, shared houses, or homestays.\\n\\n3. **Student Housing Providers**  \\n   - Companies like *Sparwood*, *Unhoused Student*, or *Urbanest* specialize in student housing in major cities.\\n\\n4. **Homestays**  \\n   - Platforms like *Homestay.com* or *Global Lodging* offer cultural immersion with local families.\\n\\n5. **Budget Options**  \\n   - **Hostels** (e.g., Hostelworld) for short-term stays, especially when first arriving.\\n\\n---\\n\\n**Tips for Searching:**  \\n- Use university forums or student groups on Facebook/Telegram for recommendations.  \\n- When using search engines, try phrases like:  \\n  *\"[City Name] student housing near [University Name]\"* or  \\n  *\"[City] affordable apartments for international students.\"*\\n\\nWould you like help narrowing down options based on your location or budget?' additional_kwargs={} response_metadata={'token_usage': {'completion_tokens': 467, 'prompt_tokens': 554, 'total_tokens': 1021, 'completion_time': 1.1380810829999999, 'prompt_time': 0.035152946, 'queue_time': 0.09392303900000001, 'total_time': 1.173234029}, 'model_name': 'qwen-qwq-32b', 'system_fingerprint': 'fp_605cd2a568', 'finish_reason': 'stop', 'logprobs': None} id='run-f20525a3-cca4-4473-b4ad-65d4e8a12997-0' usage_metadata={'input_tokens': 554, 'output_tokens': 467, 'total_tokens': 1021}\n",
      "==============================================\n"
     ]
    }
   ],
   "source": [
    "for m in res['messages']:\n",
    "    print(m)\n",
    "    print(\"==============================================\")"
   ]
  },
  {
   "cell_type": "code",
   "execution_count": 32,
   "metadata": {},
   "outputs": [],
   "source": [
    "messages = [HumanMessage(content=\"what was my question before?\")]\n",
    "\n",
    "res = grapH_with_memory.invoke({\"messages\":messages}, config)"
   ]
  },
  {
   "cell_type": "code",
   "execution_count": 34,
   "metadata": {},
   "outputs": [
    {
     "name": "stdout",
     "output_type": "stream",
     "text": [
      "================================\u001b[1m Human Message \u001b[0m=================================\n",
      "\n",
      "I am looking for a place to stay\n",
      "==================================\u001b[1m Ai Message \u001b[0m==================================\n",
      "Tool Calls:\n",
      "  search (call_6pn5)\n",
      " Call ID: call_6pn5\n",
      "  Args:\n",
      "    query: places to stay for students abroad options\n",
      "=================================\u001b[1m Tool Message \u001b[0m=================================\n",
      "Name: search\n",
      "\n",
      "Error: DuckDuckGoSearchException(RatelimitException('https://lite.duckduckgo.com/lite/ 202 Ratelimit'))\n",
      " Please fix your mistakes.\n",
      "==================================\u001b[1m Ai Message \u001b[0m==================================\n",
      "\n",
      "Here are common options for students looking for places to stay abroad:\n",
      "\n",
      "1. **University Accommodations**  \n",
      "   - Check if your university offers on-campus housing (dorms, apartments) for international students.\n",
      "\n",
      "2. **Private Rentals**  \n",
      "   - Platforms like *Airbnb*, *Roomi*, or local real estate sites can help find apartments, shared houses, or homestays.\n",
      "\n",
      "3. **Student Housing Providers**  \n",
      "   - Companies like *Sparwood*, *Unhoused Student*, or *Urbanest* specialize in student housing in major cities.\n",
      "\n",
      "4. **Homestays**  \n",
      "   - Platforms like *Homestay.com* or *Global Lodging* offer cultural immersion with local families.\n",
      "\n",
      "5. **Budget Options**  \n",
      "   - **Hostels** (e.g., Hostelworld) for short-term stays, especially when first arriving.\n",
      "\n",
      "---\n",
      "\n",
      "**Tips for Searching:**  \n",
      "- Use university forums or student groups on Facebook/Telegram for recommendations.  \n",
      "- When using search engines, try phrases like:  \n",
      "  *\"[City Name] student housing near [University Name]\"* or  \n",
      "  *\"[City] affordable apartments for international students.\"*\n",
      "\n",
      "Would you like help narrowing down options based on your location or budget?\n",
      "================================\u001b[1m Human Message \u001b[0m=================================\n",
      "\n",
      "what was my question before?\n",
      "==================================\u001b[1m Ai Message \u001b[0m==================================\n",
      "\n",
      "Your previous question was: **\"I am looking for a place to stay\"** (you were asking about options for accommodation while studying abroad). \n",
      "\n",
      "Would you like further assistance with this?\n"
     ]
    }
   ],
   "source": [
    "for m in res['messages']:\n",
    "    m.pretty_print()\n",
    "    # print(\"==?============================================\")"
   ]
  },
  {
   "cell_type": "code",
   "execution_count": null,
   "metadata": {},
   "outputs": [],
   "source": []
  }
 ],
 "metadata": {
  "kernelspec": {
   "display_name": "aca",
   "language": "python",
   "name": "python3"
  },
  "language_info": {
   "codemirror_mode": {
    "name": "ipython",
    "version": 3
   },
   "file_extension": ".py",
   "mimetype": "text/x-python",
   "name": "python",
   "nbconvert_exporter": "python",
   "pygments_lexer": "ipython3",
   "version": "3.10.16"
  }
 },
 "nbformat": 4,
 "nbformat_minor": 2
}
